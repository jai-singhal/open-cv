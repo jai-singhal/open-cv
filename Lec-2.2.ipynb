{
 "cells": [
  {
   "cell_type": "markdown",
   "metadata": {},
   "source": [
    "# Resizing, scaling, Interploation\n",
    "Interpolaton is a method of constructing new data points withing the range of a descrete set of known data points\n",
    "\n",
    "cv.INTER_AREA -> GOOD for shrinking or down sampling \n",
    "\n",
    "cv.INTER_NEAREST -> Fastest\n",
    "\n",
    "cv.INTER_LINEAR ->Good for zooimg or up sampling\n",
    "\n",
    "cv.INTER_CUBIC -> Better\n",
    "\n",
    "cv.INTER_LANCZOS4 -> BEST"
   ]
  },
  {
   "cell_type": "code",
   "execution_count": 2,
   "metadata": {
    "collapsed": true
   },
   "outputs": [],
   "source": [
    "import cv2 as cv\n",
    "import numpy as np"
   ]
  },
  {
   "cell_type": "markdown",
   "metadata": {},
   "source": [
    "can be done using cv.resize function with following arguements\n",
    "\n",
    "cv.resize(image, dsize(o/p img size), x_scale, y_scale, interpolation)"
   ]
  },
  {
   "cell_type": "code",
   "execution_count": 5,
   "metadata": {
    "collapsed": true
   },
   "outputs": [],
   "source": [
    "image = cv.imread(\"./images/input.jpg\")\n",
    "\n",
    "# 3/4th of the image\n",
    "img1 = cv.resize(image, None, fx = 0.75, fy = 0.75)\n",
    "cv.imshow(\"3/4 of the orignal image\", img1)\n",
    "cv.waitKey()\n",
    "cv.destroyAllWindows()\n"
   ]
  },
  {
   "cell_type": "code",
   "execution_count": 6,
   "metadata": {
    "collapsed": true
   },
   "outputs": [],
   "source": [
    "image = cv.imread(\"./images/input.jpg\")\n",
    "\n",
    "# 3/4th of the image\n",
    "img1 = cv.resize(image, None, fx = 2, fy = 2, interpolation = cv.INTER_CUBIC)\n",
    "cv.imshow(\"2X of the orignal image\", img1)\n",
    "cv.waitKey()\n",
    "cv.destroyAllWindows()\n"
   ]
  },
  {
   "cell_type": "code",
   "execution_count": 7,
   "metadata": {
    "collapsed": true
   },
   "outputs": [],
   "source": [
    "image = cv.imread(\"./images/input.jpg\")\n",
    "\n",
    "# To some fixed W,H\n",
    "img1 = cv.resize(image, (900, 400), interpolation = cv.INTER_AREA)\n",
    "cv.imshow(\"FIXED width, height of the orignal image\", img1)\n",
    "cv.waitKey()\n",
    "cv.destroyAllWindows()"
   ]
  }
 ],
 "metadata": {
  "kernelspec": {
   "display_name": "Python [conda root]",
   "language": "python",
   "name": "conda-root-py"
  },
  "language_info": {
   "codemirror_mode": {
    "name": "ipython",
    "version": 3
   },
   "file_extension": ".py",
   "mimetype": "text/x-python",
   "name": "python",
   "nbconvert_exporter": "python",
   "pygments_lexer": "ipython3",
   "version": "3.5.2"
  }
 },
 "nbformat": 4,
 "nbformat_minor": 1
}

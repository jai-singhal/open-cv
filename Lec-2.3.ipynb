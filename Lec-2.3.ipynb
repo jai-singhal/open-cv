{
 "cells": [
  {
   "cell_type": "markdown",
   "metadata": {
    "collapsed": true
   },
   "source": [
    "# Pyramiding\n",
    "Pyramiding image refers to either upscaling(enlarging image) or downscaling(shrinking image).\n",
    "\n",
    "It's' simply a diffrent way of resizing that allows easy and qucick way to scale image. Scaling down reduces the \n",
    "height and width of the image by half."
   ]
  },
  {
   "cell_type": "code",
   "execution_count": 2,
   "metadata": {
    "collapsed": true
   },
   "outputs": [],
   "source": [
    "import cv2 as cv\n",
    "import numpy as np"
   ]
  },
  {
   "cell_type": "code",
   "execution_count": 3,
   "metadata": {
    "collapsed": true
   },
   "outputs": [],
   "source": [
    "image = cv.imread(\"./images/input.jpg\")\n",
    "smaller = cv.pyrDown(image)\n",
    "larger = cv.pyrUp(smaller)\n",
    "\n",
    "cv.imshow(\"Original image\", image)\n",
    "cv.imshow(\"Smaller image\", smaller)\n",
    "cv.imshow(\"Larger image\", larger)\n",
    "\n",
    "cv.waitKey()\n",
    "cv.destroyAllWindows()"
   ]
  },
  {
   "cell_type": "code",
   "execution_count": 10,
   "metadata": {
    "collapsed": false
   },
   "outputs": [],
   "source": [
    "image = cv.imread(\"./images/input.jpg\")\n",
    "\n",
    "#Generating image half of the image in a loop\n",
    "for i in range(4):\n",
    "    image = cv.pyrDown(image)\n",
    "    cv.imshow(\"Original image\", image)\n",
    "    cv.waitKey()\n",
    "\n",
    "cv.destroyAllWindows()"
   ]
  }
 ],
 "metadata": {
  "anaconda-cloud": {},
  "kernelspec": {
   "display_name": "Python [conda root]",
   "language": "python",
   "name": "conda-root-py"
  },
  "language_info": {
   "codemirror_mode": {
    "name": "ipython",
    "version": 3
   },
   "file_extension": ".py",
   "mimetype": "text/x-python",
   "name": "python",
   "nbconvert_exporter": "python",
   "pygments_lexer": "ipython3",
   "version": "3.5.2"
  }
 },
 "nbformat": 4,
 "nbformat_minor": 1
}

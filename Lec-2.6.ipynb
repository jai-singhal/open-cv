{
 "cells": [
  {
   "cell_type": "code",
   "execution_count": 1,
   "metadata": {
    "collapsed": true
   },
   "outputs": [],
   "source": [
    "import cv2 as cv\n",
    "import numpy as np"
   ]
  },
  {
   "cell_type": "code",
   "execution_count": 5,
   "metadata": {
    "collapsed": false
   },
   "outputs": [
    {
     "name": "stdout",
     "output_type": "stream",
     "text": [
      "[[10 10 10 10 10]\n",
      " [10 10 10 10 10]\n",
      " [10 10 10 10 10]\n",
      " [10 10 10 10 10]\n",
      " [10 10 10 10 10]]\n"
     ]
    }
   ],
   "source": [
    "M = np.ones((5, 5), dtype = \"uint8\")*10\n",
    "print(M)"
   ]
  },
  {
   "cell_type": "code",
   "execution_count": 12,
   "metadata": {
    "collapsed": false
   },
   "outputs": [],
   "source": [
    "# arithmething operation with brightness of the image\n",
    "image = cv.imread(\"./images/input.jpg\")\n",
    "\n",
    "M = np.ones(image.shape, dtype = \"uint8\")*150 # NOte that image can be max [255, 255, 2]\n",
    "\n",
    "added = cv.add(image, M)\n",
    "cv.imshow(\"After adding M matrix\", added)\n",
    "cv.waitKey()\n",
    "\n",
    "subtract = cv.subtract(image, M)\n",
    "cv.imshow(\"After sub M matrix\", subtract)\n",
    "cv.waitKey()\n",
    "\n",
    "cv.destroyAllWindows()\n"
   ]
  },
  {
   "cell_type": "markdown",
   "metadata": {},
   "source": [
    "# BItwise operation and masking\n",
    "\n"
   ]
  },
  {
   "cell_type": "code",
   "execution_count": 28,
   "metadata": {
    "collapsed": true
   },
   "outputs": [],
   "source": [
    "img = np.zeros((300, 300), \"uint8\") # making a 2d array of all zeroes and of size 300*300\n",
    "rectangle = cv.rectangle(img, (50, 50), (250, 250), 255, -1)\n",
    "cv.imshow(\"Rectangle\", img)\n",
    "cv.waitKey()\n",
    "\n",
    "img = np.zeros((300, 300), \"uint8\") # making a 2d array of all zeroes and of size 300*300\n",
    "ellipse = cv.ellipse(img, (150, 150), (150, 150), 30, 0, 180, 255, -1)\n",
    "cv.imshow(\"Ellipse\", img)\n",
    "cv.waitKey()\n",
    "\n",
    "cv.destroyAllWindows()"
   ]
  },
  {
   "cell_type": "code",
   "execution_count": 29,
   "metadata": {
    "collapsed": true
   },
   "outputs": [],
   "source": [
    "And = cv.bitwise_and(rectangle, ellipse)\n",
    "cv.imshow(\"Bitwise AND\", And)\n",
    "cv.waitKey()\n",
    "\n",
    "Or = cv.bitwise_or(rectangle, ellipse)\n",
    "cv.imshow(\"Bitwise OR\", Or)\n",
    "cv.waitKey()\n",
    "\n",
    "Not = cv.bitwise_not(rectangle)\n",
    "cv.imshow(\"Bitwise NOT of rectangle\", Not)\n",
    "cv.waitKey()\n",
    "\n",
    "Xor = cv.bitwise_xor(rectangle, ellipse)\n",
    "cv.imshow(\"Bitwise XOR\", Xor)\n",
    "cv.waitKey()\n",
    "\n",
    "cv.destroyAllWindows()"
   ]
  }
 ],
 "metadata": {
  "anaconda-cloud": {},
  "kernelspec": {
   "display_name": "Python [conda root]",
   "language": "python",
   "name": "conda-root-py"
  },
  "language_info": {
   "codemirror_mode": {
    "name": "ipython",
    "version": 3
   },
   "file_extension": ".py",
   "mimetype": "text/x-python",
   "name": "python",
   "nbconvert_exporter": "python",
   "pygments_lexer": "ipython3",
   "version": "3.5.2"
  }
 },
 "nbformat": 4,
 "nbformat_minor": 1
}

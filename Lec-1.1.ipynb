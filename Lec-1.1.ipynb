{
 "cells": [
  {
   "cell_type": "code",
   "execution_count": 2,
   "metadata": {
    "collapsed": true
   },
   "outputs": [],
   "source": [
    "# Importing the useful packages\n",
    "import numpy as np\n",
    "import cv2 as cv"
   ]
  },
  {
   "cell_type": "code",
   "execution_count": 7,
   "metadata": {
    "collapsed": false
   },
   "outputs": [],
   "source": [
    "# Taking input of the image and showing the image in a window\n",
    "input_img = cv.imread(\"./images/input.jpg\")\n",
    "cv.imshow(\"Hello World\", input_img)\n",
    "\n",
    "cv.waitKey()\n",
    "\n",
    "cv.destroyAllWindows()"
   ]
  },
  {
   "cell_type": "code",
   "execution_count": 16,
   "metadata": {
    "collapsed": false
   },
   "outputs": [
    {
     "name": "stdout",
     "output_type": "stream",
     "text": [
      "(830, 1245, 3)\n",
      "Height of image 830\n",
      "Width of image 1245\n"
     ]
    }
   ],
   "source": [
    "#Dimensions of image\n",
    "print(input_img.shape) #shape of image x,y,z (In 2d plane with z index of RBG color)\n",
    "print(\"Height of image\", input_img.shape[0])\n",
    "print(\"Width of image\", input_img.shape[1])"
   ]
  },
  {
   "cell_type": "code",
   "execution_count": 18,
   "metadata": {
    "collapsed": false
   },
   "outputs": [
    {
     "data": {
      "text/plain": [
       "True"
      ]
     },
     "execution_count": 18,
     "metadata": {},
     "output_type": "execute_result"
    }
   ],
   "source": [
    "# save an image in opencv with the edits\n",
    "\n",
    "cv.imwrite(\"output.png\", input_img)\n",
    "cv.imwrite(\"output.jpg\", input_img)"
   ]
  }
 ],
 "metadata": {
  "anaconda-cloud": {},
  "kernelspec": {
   "display_name": "Python [conda root]",
   "language": "python",
   "name": "conda-root-py"
  },
  "language_info": {
   "codemirror_mode": {
    "name": "ipython",
    "version": 3
   },
   "file_extension": ".py",
   "mimetype": "text/x-python",
   "name": "python",
   "nbconvert_exporter": "python",
   "pygments_lexer": "ipython3",
   "version": "3.5.2"
  }
 },
 "nbformat": 4,
 "nbformat_minor": 1
}

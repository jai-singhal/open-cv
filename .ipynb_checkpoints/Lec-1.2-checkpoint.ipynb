{
 "cells": [
  {
   "cell_type": "code",
   "execution_count": 1,
   "metadata": {
    "collapsed": true
   },
   "outputs": [],
   "source": [
    "# Importing the useful packages\n",
    "import numpy as np\n",
    "import cv2 as cv\n"
   ]
  },
  {
   "cell_type": "markdown",
   "metadata": {},
   "source": [
    "HSV => Hue Saturation Value. Stores the color information in cylindrical representation of RGB color points\n",
    "H => Color Value(0-179)\n",
    "S => Vibrancy of Color(0-255)\n",
    "V => Brightness or Intensity(0-255)\n"
   ]
  },
  {
   "cell_type": "code",
   "execution_count": 3,
   "metadata": {
    "collapsed": true
   },
   "outputs": [],
   "source": [
    "image = cv.imread(\"./images/input.jpg\")\n"
   ]
  },
  {
   "cell_type": "code",
   "execution_count": 5,
   "metadata": {
    "collapsed": false
   },
   "outputs": [
    {
     "name": "stdout",
     "output_type": "stream",
     "text": [
      "12 18 29\n"
     ]
    }
   ],
   "source": [
    "#Individual color of the image\n",
    "\n",
    "B,G,R = image[0, 0] #PIXEL location\n",
    "print(B,G,R)"
   ]
  },
  {
   "cell_type": "code",
   "execution_count": 20,
   "metadata": {
    "collapsed": false
   },
   "outputs": [],
   "source": [
    "# convert to greyscale\n",
    "\n",
    "grey_img = cv.cvtColor(image, cv.COLOR_BGR2GRAY)\n",
    "cv.imshow(\"GREY SCALE\", grey_img)\n",
    "\n",
    "cv.waitKey()\n",
    "cv.destroyAllWindows()"
   ]
  },
  {
   "cell_type": "code",
   "execution_count": 27,
   "metadata": {
    "collapsed": false
   },
   "outputs": [
    {
     "name": "stdout",
     "output_type": "stream",
     "text": [
      "(830, 1245, 3)\n",
      "(830, 1245)\n",
      "[12 18 29]\n",
      "21\n"
     ]
    }
   ],
   "source": [
    "print(image.shape)\n",
    "print(gray_image.shape)\n",
    "\n",
    "print(image[0,0])\n",
    "print(grey_img[0,0])"
   ]
  },
  {
   "cell_type": "code",
   "execution_count": 32,
   "metadata": {
    "collapsed": false
   },
   "outputs": [],
   "source": [
    "# color space from bgr to HSV\n",
    "\n",
    "hsv_img = cv.cvtColor(image, cv.COLOR_BGR2HSV)\n",
    "cv.imshow(\"HSV color scheming\", hsv_img)\n",
    "\n",
    "cv.imshow(\"Hue channel\", hsv_img[:, :, 0])\n",
    "cv.imshow(\"Saturation channel\", hsv_img[:, :, 1])\n",
    "cv.imshow(\"Value channel\", hsv_img[:, :, 2])\n",
    "\n",
    "cv.waitKey()\n",
    "cv.destroyAllWindows()\n"
   ]
  },
  {
   "cell_type": "code",
   "execution_count": 43,
   "metadata": {
    "collapsed": false
   },
   "outputs": [
    {
     "name": "stdout",
     "output_type": "stream",
     "text": [
      "(830, 1245)\n"
     ]
    }
   ],
   "source": [
    "# color scheme in seperate R G B channel\n",
    "\n",
    "\n",
    "# cv.imshow(\"Original Image\", image)\n",
    "B, G, R = cv.split(image)\n",
    "print(B.shape) # in grey scale\n",
    "\n",
    "cv.imshow(\"Blue\", B)\n",
    "cv.imshow(\"Green\", G)\n",
    "cv.imshow(\"Red\", R)\n",
    "\n",
    "# remake the orignal image\n",
    "merge_img = cv.merge([B,G,R])\n",
    "cv.imshow(\"Image after merging\", merge_img)\n",
    "\n",
    "# amplify the coloring scheme\n",
    "merge_img = cv.merge([B+100,G+20,R+35])\n",
    "cv.imshow(\"Image after merging and amplify\", merge_img)\n",
    "\n",
    "\n",
    "cv.waitKey()\n",
    "cv.destroyAllWindows()\n"
   ]
  },
  {
   "cell_type": "code",
   "execution_count": 47,
   "metadata": {
    "collapsed": false
   },
   "outputs": [],
   "source": [
    "# converting into red, green and blue color image\n",
    "\n",
    "B, G, R = cv.split(image)\n",
    "zeroes = np.zeros(image.shape[:2], dtype = \"uint8\")\n",
    "cv.imshow(\"Red\", cv.merge([zeroes, zeroes, R]))\n",
    "cv.imshow(\"Green\", cv.merge([zeroes, G, zeroes]))\n",
    "cv.imshow(\"Blue\", cv.merge([B, zeroes, zeroes]))\n",
    "\n",
    "\n",
    "cv.waitKey()\n",
    "cv.destroyAllWindows()\n"
   ]
  }
 ],
 "metadata": {
  "kernelspec": {
   "display_name": "Python [conda root]",
   "language": "python",
   "name": "conda-root-py"
  },
  "language_info": {
   "codemirror_mode": {
    "name": "ipython",
    "version": 3
   },
   "file_extension": ".py",
   "mimetype": "text/x-python",
   "name": "python",
   "nbconvert_exporter": "python",
   "pygments_lexer": "ipython3",
   "version": "3.5.2"
  }
 },
 "nbformat": 4,
 "nbformat_minor": 1
}

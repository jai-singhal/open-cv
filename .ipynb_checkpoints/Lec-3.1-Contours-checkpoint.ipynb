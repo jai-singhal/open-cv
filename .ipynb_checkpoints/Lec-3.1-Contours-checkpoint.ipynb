{
 "cells": [
  {
   "cell_type": "markdown",
   "metadata": {},
   "source": [
    "## Contours\n",
    "Contours can be explained simply as a curve joining all the continuous points (along the boundary), having same color or intensity. The contours are a useful tool for shape analysis and object detection and recognition."
   ]
  },
  {
   "cell_type": "code",
   "execution_count": 1,
   "metadata": {
    "collapsed": true
   },
   "outputs": [],
   "source": [
    "import cv2 \n",
    "import numpy as np"
   ]
  },
  {
   "cell_type": "code",
   "execution_count": 2,
   "metadata": {
    "collapsed": false
   },
   "outputs": [
    {
     "data": {
      "text/plain": [
       "255"
      ]
     },
     "execution_count": 2,
     "metadata": {},
     "output_type": "execute_result"
    }
   ],
   "source": [
    "# Let's load a simple image with 3 black squares\n",
    "image = cv2.imread('images/shapes.jpg')\n",
    "cv2.imshow('Input Image', image)\n",
    "cv2.waitKey(0)\n",
    "\n",
    "# Grayscale\n",
    "gray = cv2.cvtColor(image, cv2.COLOR_BGR2GRAY)\n",
    "\n",
    "# Find Canny edges\n",
    "edged = cv2.Canny(gray, 30, 200)\n",
    "cv2.imshow('Canny Edges', edged)\n",
    "cv2.waitKey(0)\n"
   ]
  },
  {
   "cell_type": "code",
   "execution_count": 3,
   "metadata": {
    "collapsed": false
   },
   "outputs": [
    {
     "name": "stdout",
     "output_type": "stream",
     "text": [
      "Number of Contours found = 3\n"
     ]
    }
   ],
   "source": [
    "# Finding Contours\n",
    "# Use a copy of your image e.g. edged.copy(), since findContours alters the image\n",
    "mask, contours, hierarchy = cv2.findContours(edged.copy(), cv2.RETR_EXTERNAL, cv2.CHAIN_APPROX_NONE)\n",
    "# cv2.imshow('Canny Edges After Contouring', edged)\n",
    "# cv2.waitKey(0)\n",
    "\n",
    "print(\"Number of Contours found = \" + str(len(contours)))\n",
    "\n",
    "# Draw all contours\n",
    "# Use '-1' as the 3rd parameter to draw all\n",
    "\n",
    "cv2.drawContours(image, contours, -1, (0,255,0), 3)\n",
    "\n",
    "cv2.imshow('Contours', image)\n",
    "cv2.waitKey(0)\n",
    "cv2.destroyAllWindows()"
   ]
  },
  {
   "cell_type": "markdown",
   "metadata": {},
   "source": [
    "**cv2.findContours(image, Retrieval Mode, Approximation Method)**\n",
    "\n",
    "Returns -> contours, hierarchy\n",
    "\n",
    "**NOTE** In OpenCV 3.X, findContours returns a 3rd argument which is ret (or a boolean indicating if the function was successfully run). \n",
    "\n",
    "If you're using OpenCV 3.X replace line 12 with:\n",
    "\n",
    "_, contours, hierarchy = cv2.findContours(image, cv2.RETR_EXTERNAL, cv2.CHAIN_APPROX_NONE)\n",
    "\n",
    "The variable 'contours' are stored as a numpy array of (x,y) points that form the contour\n",
    "\n",
    "While, 'hierarchy' describes the child-parent relationships between contours (i.e. contours within contours)\n",
    "\n",
    "\n",
    "\n",
    "#### Approximation Methods\n",
    "\n",
    "Using cv2.CHAIN_APPROX_NONE stores all the boundary points. But we don't necessarily need all bounding points. If the points form a straight line, we only need the start and ending points of that line.\n",
    "\n",
    "Using cv2.CHAIN_APPROX_SIMPLE instead only provides these start and end points of bounding contours, thus resulting in much more efficent storage of contour information.."
   ]
  },
  {
   "cell_type": "markdown",
   "metadata": {
    "collapsed": true
   },
   "source": [
    "# Sorting Contours"
   ]
  },
  {
   "cell_type": "code",
   "execution_count": 4,
   "metadata": {
    "collapsed": true
   },
   "outputs": [],
   "source": [
    "import cv2 as cv\n",
    "import numpy as np"
   ]
  },
  {
   "cell_type": "code",
   "execution_count": 5,
   "metadata": {
    "collapsed": false
   },
   "outputs": [
    {
     "name": "stdout",
     "output_type": "stream",
     "text": [
      "No. of contours:  4\n"
     ]
    }
   ],
   "source": [
    "image = cv.imread(\"./images/bunchofshapes.jpg\")\n",
    "\n",
    "blank_img = np.zeros((image.shape[0], image.shape[1], 3), \"uint8\")\n",
    "\n",
    "img_gs = cv.cvtColor(image, cv.COLOR_BGR2GRAY)\n",
    "img_edged = cv.Canny(img_gs, 30, 200)\n",
    "\n",
    "contours = cv2.findContours(img_edged.copy(), cv2.RETR_EXTERNAL, cv2.CHAIN_APPROX_NONE)[1]\n",
    "\n",
    "\n",
    "cv2.drawContours(blank_img, contours, -1, (100, 155, 215), 5)\n",
    "\n",
    "print(\"No. of contours: \", len(contours))\n"
   ]
  },
  {
   "cell_type": "code",
   "execution_count": 6,
   "metadata": {
    "collapsed": false
   },
   "outputs": [
    {
     "name": "stdout",
     "output_type": "stream",
     "text": [
      "No. of contours:  4\n"
     ]
    }
   ],
   "source": [
    "contours = cv2.findContours(img_edged.copy(), cv2.RETR_EXTERNAL, cv2.CHAIN_APPROX_NONE)[1]\n",
    "print(\"No. of contours: \", len(contours))\n",
    "cv2.drawContours(image, contours, -1, (100, 155, 215), 5)\n",
    "cv.imshow(\"Contour extracted image\", image)\n",
    "cv.waitKey()\n",
    "cv.destroyAllWindows()"
   ]
  },
  {
   "cell_type": "code",
   "execution_count": 7,
   "metadata": {
    "collapsed": false
   },
   "outputs": [],
   "source": [
    "sorted_contours = sorted(contours, key = cv2.contourArea, reverse=True)\n",
    "\n",
    "blank_img = np.zeros((image.shape[0], image.shape[1], 3), \"uint8\")\n",
    "\n",
    "for coun in sorted_contours:\n",
    "    cv2.drawContours(blank_img, coun, -1, (200, 155, 215), 5)\n",
    "cv.imshow(\"Sorted contours\", blank_img)\n",
    "cv.waitKey()\n",
    "    \n",
    "cv.destroyAllWindows()"
   ]
  },
  {
   "cell_type": "code",
   "execution_count": 8,
   "metadata": {
    "collapsed": false
   },
   "outputs": [
    {
     "name": "stdout",
     "output_type": "stream",
     "text": [
      "Before Sorting, Areas are: 20587.5, 22900.5, 66581.5, 90222.0, \n",
      "After Sorting, Areas are: 90222.0, 66581.5, 22900.5, 20587.5, "
     ]
    }
   ],
   "source": [
    "print(\"Before Sorting, Areas are: \", end = \"\")\n",
    "for i in contours:\n",
    "    print(cv2.contourArea(i), end = \", \")\n",
    "\n",
    "print(\"\\nAfter Sorting, Areas are: \", end = \"\")\n",
    "for i in sorted_contours:\n",
    "    print(cv2.contourArea(i), end = \", \")\n",
    "    "
   ]
  },
  {
   "cell_type": "code",
   "execution_count": 41,
   "metadata": {
    "collapsed": false
   },
   "outputs": [
    {
     "data": {
      "text/plain": [
       "27"
      ]
     },
     "execution_count": 41,
     "metadata": {},
     "output_type": "execute_result"
    }
   ],
   "source": [
    "blank_img = np.zeros((image.shape[0], image.shape[1], 3), \"uint8\")\n",
    "\n",
    "def get_centroid(contour):\n",
    "    M = cv2.moments(contour)\n",
    "    cx = int(M['m10']//M['m00'])\n",
    "    cy = int(M['m01']//M['m00'])\n",
    "    return cx, cy\n",
    "\n",
    "def drawCircleCentroid(image, contour, counter):\n",
    "    cx, cy = get_centroid(contour)\n",
    "    cv2.circle(image, (cx, cy),  2, (0, 0, 255), -1)\n",
    "    cv2.putText(image, str(counter+1), (cx-8, cy+8), cv2.FONT_HERSHEY_PLAIN, 2, (0, 255, 0), 2)\n",
    "    return contour\n",
    "\n",
    "\n",
    "for (counter, c) in enumerate(sorted_contours):\n",
    "    drawCircleCentroid(blank_img, c, counter)\n",
    "    cv2.drawContours(blank_img, c, -1, (200, 155, 215), 3)\n",
    "    \n",
    "cv.imshow(\"Sorted contours\", blank_img)\n",
    "cv.waitKey(0)"
   ]
  },
  {
   "cell_type": "code",
   "execution_count": null,
   "metadata": {
    "collapsed": false
   },
   "outputs": [],
   "source": []
  }
 ],
 "metadata": {
  "anaconda-cloud": {},
  "kernelspec": {
   "display_name": "Python [conda root]",
   "language": "python",
   "name": "conda-root-py"
  },
  "language_info": {
   "codemirror_mode": {
    "name": "ipython",
    "version": 3
   },
   "file_extension": ".py",
   "mimetype": "text/x-python",
   "name": "python",
   "nbconvert_exporter": "python",
   "pygments_lexer": "ipython3",
   "version": "3.5.2"
  }
 },
 "nbformat": 4,
 "nbformat_minor": 1
}

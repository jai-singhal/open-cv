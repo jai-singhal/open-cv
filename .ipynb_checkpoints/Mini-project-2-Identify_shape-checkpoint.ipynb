{
 "cells": [
  {
   "cell_type": "markdown",
   "metadata": {},
   "source": [
    "## Mini Project #2 - Identify contours by shape\n"
   ]
  },
  {
   "cell_type": "code",
   "execution_count": 101,
   "metadata": {
    "collapsed": false
   },
   "outputs": [],
   "source": [
    "import numpy as np\n",
    "import cv2 as cv"
   ]
  },
  {
   "cell_type": "code",
   "execution_count": 119,
   "metadata": {
    "collapsed": false
   },
   "outputs": [],
   "source": [
    "def centroidShape(contour):\n",
    "    M = cv.moments(contour)\n",
    "    xi = int(M[\"m10\"]/M[\"m00\"])\n",
    "    yi = int(M[\"m01\"]/M[\"m00\"])\n",
    "    \n",
    "    return xi, yi\n",
    "\n",
    "def findShape(contour):\n",
    "    arcLength = cv.arcLength(contour, True)\n",
    "    curve = cv.approxPolyDP(contour, 0.01*arcLength, True)\n",
    "    approx = len(curve)\n",
    "    \n",
    "    shape = ShapeName(contour, approx)\n",
    "    return shape\n",
    "    \n",
    "def ShapeName(contour, approx):\n",
    "    shape = None\n",
    "    if approx == 1:\n",
    "        shape = \"Line\"\n",
    "    elif approx == 3:\n",
    "        shape = \"Triangle\"\n",
    "    elif approx == 4:\n",
    "        x, y, h, w = cv.boundingRect(contour)\n",
    "        if abs(h-w) <= 3:\n",
    "            shape = \"Square\"\n",
    "        else:\n",
    "            shape = \"Rectangle\"\n",
    "    elif approx == 10:\n",
    "        shape = \"Star\"\n",
    "    elif approx >= 15:\n",
    "        shape = \"Circle\"\n",
    "    else:\n",
    "        shape = \"Polygon\"\n",
    "    return shape\n",
    "\n",
    "\n",
    "def writeShapeName(image, contour, shape):\n",
    "    xi, yi = centeroidShape(contour)\n",
    "    cv.putText(image, shape, (xi - len(shape)*4, yi + 8), cv.FONT_HERSHEY_PLAIN, 1, (0, 0, 0), 1)\n",
    "    "
   ]
  },
  {
   "cell_type": "code",
   "execution_count": 120,
   "metadata": {
    "collapsed": true
   },
   "outputs": [],
   "source": [
    "image = cv.imread(\"./images/someshapes.jpg\")\n",
    "original_image = np.copy(image)\n",
    "\n",
    "img_gs = cv.cvtColor(image, cv.COLOR_BGR2GRAY)\n",
    "ret, thresh = cv.threshold(img_gs, 127, 255, 0)\n",
    "\n",
    "contours = cv.findContours(thresh, cv.RETR_CCOMP, cv.CHAIN_APPROX_SIMPLE)[1]\n",
    "contours_sorted = sorted(contours, key = cv.contourArea, reverse=True)\n",
    "\n",
    "for c in contours_sorted[1:]:\n",
    "    shape = findShape(c)\n",
    "    cv.drawContours(image, [c], 0, (0, 125, 225), -1)\n",
    "    writeShapeName(image, c, shape)   "
   ]
  },
  {
   "cell_type": "code",
   "execution_count": 121,
   "metadata": {
    "collapsed": false
   },
   "outputs": [],
   "source": [
    "cv.imshow(\"Orignal Shape\", original_image)\n",
    "cv.waitKey()\n",
    "cv.destroyAllWindows()"
   ]
  },
  {
   "cell_type": "code",
   "execution_count": 122,
   "metadata": {
    "collapsed": true
   },
   "outputs": [],
   "source": [
    "cv.imshow(\"Image Detected\", image)\n",
    "cv.waitKey()\n",
    "cv.destroyAllWindows() "
   ]
  }
 ],
 "metadata": {
  "anaconda-cloud": {},
  "kernelspec": {
   "display_name": "Python [conda root]",
   "language": "python",
   "name": "conda-root-py"
  },
  "language_info": {
   "codemirror_mode": {
    "name": "ipython",
    "version": 3
   },
   "file_extension": ".py",
   "mimetype": "text/x-python",
   "name": "python",
   "nbconvert_exporter": "python",
   "pygments_lexer": "ipython3",
   "version": "3.5.2"
  }
 },
 "nbformat": 4,
 "nbformat_minor": 1
}

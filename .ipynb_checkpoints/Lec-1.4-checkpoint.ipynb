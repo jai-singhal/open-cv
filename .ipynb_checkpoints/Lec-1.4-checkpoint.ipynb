{
 "cells": [
  {
   "cell_type": "code",
   "execution_count": 1,
   "metadata": {
    "collapsed": true
   },
   "outputs": [],
   "source": [
    "# Drawing images with open cv\n",
    "import cv2 as cv\n",
    "import numpy as np\n"
   ]
  },
  {
   "cell_type": "code",
   "execution_count": 3,
   "metadata": {
    "collapsed": true
   },
   "outputs": [],
   "source": [
    "# Creating a black image of dimension as follows\n",
    "image = np.zeros((512, 512, 3), np.uint8)\n",
    "\n",
    "image_bw = np.zeros((512, 512), np.uint8)\n",
    "\n",
    "cv.imshow(\"Colored Image Black Rectangle\", image)\n",
    "cv.imshow(\"Black/White Image Black Rectangle\", image_bw)\n",
    "\n",
    "cv.waitKey(0)\n",
    "cv.destroyAllWindows()\n"
   ]
  },
  {
   "cell_type": "code",
   "execution_count": 4,
   "metadata": {
    "collapsed": true
   },
   "outputs": [],
   "source": [
    "# drawing a line into image\n",
    "\n",
    "image = np.zeros((512, 512, 3), np.uint8)\n",
    "cv.line(image, (0, 0), (511, 511), (255, 127, 0), 5)\n",
    "\n",
    "cv.imshow(\"After Line\", image)\n",
    "cv.waitKey()\n",
    "cv.destroyAllWindows()\n"
   ]
  },
  {
   "cell_type": "code",
   "execution_count": 6,
   "metadata": {
    "collapsed": true
   },
   "outputs": [],
   "source": [
    "# drawing a reactangle\n",
    "\n",
    "image = np.zeros((512, 512, 3), np.uint8)\n",
    "cv.rectangle(image, (100, 100), (300, 350), (255, 127, 0), 5)\n",
    "\n",
    "cv.imshow(\"After drawing Rectangle\", image)\n",
    "cv.waitKey()\n",
    "cv.destroyAllWindows()"
   ]
  },
  {
   "cell_type": "code",
   "execution_count": 11,
   "metadata": {
    "collapsed": false
   },
   "outputs": [],
   "source": [
    "# drawing a circle\n",
    "\n",
    "image = np.zeros((512, 512, 3), np.uint8)\n",
    "cv.circle(image, (250, 250), 150, (255, 127, 0), -1)\n",
    "\n",
    "cv.imshow(\"After drawing Circle\", image)\n",
    "cv.waitKey()\n",
    "cv.destroyAllWindows()"
   ]
  },
  {
   "cell_type": "code",
   "execution_count": 26,
   "metadata": {
    "collapsed": false
   },
   "outputs": [],
   "source": [
    "# drawing a Polygons\n",
    "\n",
    "image = np.zeros((512, 512, 3), np.uint8)\n",
    "pts = np.array([[30,50], [150,120], [200, 300], [320, 400], [150, 380]], np.int32)\n",
    "# pts.reshape((-1,1,2))\n",
    "\n",
    "cv.polylines(image, [pts], True, [0, 255, 255], 3)\n",
    "\n",
    "cv.imshow(\"After drawing Circle\", image)\n",
    "cv.waitKey()\n",
    "cv.destroyAllWindows()"
   ]
  },
  {
   "cell_type": "markdown",
   "metadata": {},
   "source": [
    "### Let's even add text with cv2.putText\n",
    "\n",
    "cv2.putText(image, 'Text to Display', bottom left starting point, Font, Font Size, Color, Thickness)\n",
    "\n",
    "- FONT_HERSHEY_SIMPLEX, FONT_HERSHEY_PLAIN\n",
    "- FONT_HERSHEY_DUPLEX,FONT_HERSHEY_COMPLEX \n",
    "- FONT_HERSHEY_TRIPLEX, FONT_HERSHEY_COMPLEX_SMALL\n",
    "- FONT_HERSHEY_SCRIPT_SIMPLEX\n",
    "- FONT_HERSHEY_SCRIPT_COMPLEX\n"
   ]
  },
  {
   "cell_type": "code",
   "execution_count": 38,
   "metadata": {
    "collapsed": false
   },
   "outputs": [],
   "source": [
    "# drawing a some Text\n",
    "\n",
    "image = np.zeros((512, 512, 3), np.uint8)\n",
    "cv.putText(image, \"Jai Singhal\", (25, 300), cv.FONT_HERSHEY_PLAIN, 5.5, [155, 255, 100], 5)\n",
    "\n",
    "cv.imshow(\"After drawing Circle\", image)\n",
    "cv.waitKey()\n",
    "cv.destroyAllWindows()"
   ]
  }
 ],
 "metadata": {
  "kernelspec": {
   "display_name": "Python [conda root]",
   "language": "python",
   "name": "conda-root-py"
  },
  "language_info": {
   "codemirror_mode": {
    "name": "ipython",
    "version": 3
   },
   "file_extension": ".py",
   "mimetype": "text/x-python",
   "name": "python",
   "nbconvert_exporter": "python",
   "pygments_lexer": "ipython3",
   "version": "3.5.2"
  }
 },
 "nbformat": 4,
 "nbformat_minor": 1
}

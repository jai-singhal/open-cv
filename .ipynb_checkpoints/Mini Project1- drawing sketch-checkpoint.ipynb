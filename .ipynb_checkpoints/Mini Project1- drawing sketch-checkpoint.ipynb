{
 "cells": [
  {
   "cell_type": "code",
   "execution_count": 6,
   "metadata": {
    "collapsed": false
   },
   "outputs": [],
   "source": [
    "import cv2\n",
    "\n",
    "def drawSketch(img):\n",
    "    img_to_grey_scale = cv2.cvtColor(img, cv2.COLOR_BGR2GRAY)\n",
    "    blur_img = cv2.GaussianBlur(img_to_grey_scale, (5,5), 0)\n",
    "    canny = cv2.Canny(blur_img, 10, 70)\n",
    "    \n",
    "    _, mask = cv2.threshold(canny, 70, 255, cv2.THRESH_BINARY_INV)\n",
    "    return mask\n",
    "\n",
    "\n",
    "def show_webcam(mirror=False):\n",
    "    cam = cv2.VideoCapture(0)\n",
    "    while True:\n",
    "        ret_val, img = cam.read(0)\n",
    "        if mirror: \n",
    "            img = cv2.flip(img, 1)\n",
    "        \n",
    "        image = drawSketch(img)\n",
    "        cv2.imshow(\"Web Cam Pic\", image) \n",
    "\n",
    "        if cv2.waitKey(1) == 27 or cv2.waitKey(1) == 13: # esc or Enter to quit\n",
    "            break  \n",
    "    cv2.destroyAllWindows()\n",
    "\n",
    "def main():\n",
    "    show_webcam(True)\n",
    "\n",
    "if __name__ == '__main__':\n",
    "    main()"
   ]
  }
 ],
 "metadata": {
  "kernelspec": {
   "display_name": "Python [conda root]",
   "language": "python",
   "name": "conda-root-py"
  },
  "language_info": {
   "codemirror_mode": {
    "name": "ipython",
    "version": 3
   },
   "file_extension": ".py",
   "mimetype": "text/x-python",
   "name": "python",
   "nbconvert_exporter": "python",
   "pygments_lexer": "ipython3",
   "version": "3.5.2"
  }
 },
 "nbformat": 4,
 "nbformat_minor": 1
}

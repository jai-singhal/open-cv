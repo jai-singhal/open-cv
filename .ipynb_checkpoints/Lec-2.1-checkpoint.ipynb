{
 "cells": [
  {
   "cell_type": "markdown",
   "metadata": {},
   "source": [
    "# Translations \n",
    "This is affine transform(shifts the image only)\n",
    "\n",
    "cv2.warpAffine() used\n",
    "\n",
    "[ 1 0 Tx\n",
    " 0 1 Ty ]"
   ]
  },
  {
   "cell_type": "code",
   "execution_count": 1,
   "metadata": {
    "collapsed": true
   },
   "outputs": [],
   "source": [
    "import cv2 as cv\n",
    "import numpy as np"
   ]
  },
  {
   "cell_type": "code",
   "execution_count": 10,
   "metadata": {
    "collapsed": false
   },
   "outputs": [],
   "source": [
    "# Transalation of image to (x, y)\n",
    "image = cv.imread(\"./images/input.jpg\")\n",
    "\n",
    "height, width = image.shape[0:2]\n",
    "q_h, q_w = height/8, width/8\n",
    "\n",
    "T = np.float32(([1, 0, q_w], [0, 1, q_h]))\n",
    "img_trans = cv.warpAffine(image, T, (width, height))\n",
    "\n",
    "cv.imshow(\"AFter Transalation\", img_trans)\n",
    "cv.waitKey()\n",
    "cv.destroyAllWindows()\n"
   ]
  },
  {
   "cell_type": "markdown",
   "metadata": {
    "collapsed": true
   },
   "source": [
    "# rotations\n",
    "rotation matrix(M)\n",
    "\n",
    "M = [cosx   -sinx\n",
    "\n",
    "     sinx  cosx]\n",
    "\n",
    "cv2.getRotationMatrix2d(rotate_center_x, rotate_center_y, angle_of_rot, scale) is used\n"
   ]
  },
  {
   "cell_type": "code",
   "execution_count": 4,
   "metadata": {
    "collapsed": true
   },
   "outputs": [],
   "source": [
    "image = cv.imread(\"./images/input.jpg\")\n",
    "H, W = image.shape[:2]\n",
    "#ACW roatation\n",
    "rotation_matrix = cv.getRotationMatrix2D((W/2, H/2), 90, 0.5)\n",
    "\n",
    "rotated_img = cv.warpAffine(image, rotation_matrix, (W, H))\n",
    "cv.imshow(\"After rotation\", rotated_img)\n",
    "cv.waitKey()\n",
    "cv.destroyAllWindows()\n"
   ]
  },
  {
   "cell_type": "code",
   "execution_count": 6,
   "metadata": {
    "collapsed": true
   },
   "outputs": [],
   "source": [
    "# another method to do the rotation by 90 degree by Transpose Method\n",
    "\n",
    "image = cv.imread(\"./images/input.jpg\")\n",
    "t_img = cv.transpose(image)\n",
    "cv.imshow(\"After transpose of image\", t_img)\n",
    "cv.waitKey()\n",
    "cv.destroyAllWindows()\n"
   ]
  }
 ],
 "metadata": {
  "anaconda-cloud": {},
  "kernelspec": {
   "display_name": "Python [conda root]",
   "language": "python",
   "name": "conda-root-py"
  },
  "language_info": {
   "codemirror_mode": {
    "name": "ipython",
    "version": 3
   },
   "file_extension": ".py",
   "mimetype": "text/x-python",
   "name": "python",
   "nbconvert_exporter": "python",
   "pygments_lexer": "ipython3",
   "version": "3.5.2"
  }
 },
 "nbformat": 4,
 "nbformat_minor": 1
}
